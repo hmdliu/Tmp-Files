{
  "nbformat": 4,
  "nbformat_minor": 0,
  "metadata": {
    "colab": {
      "provenance": []
    },
    "kernelspec": {
      "name": "python3",
      "display_name": "Python 3"
    },
    "language_info": {
      "name": "python"
    }
  },
  "cells": [
    {
      "cell_type": "code",
      "execution_count": 10,
      "metadata": {
        "colab": {
          "base_uri": "https://localhost:8080/"
        },
        "id": "BUb71g-JSNof",
        "outputId": "35631989-b9b8-49b6-8d3d-c573baf393d0"
      },
      "outputs": [
        {
          "output_type": "stream",
          "name": "stderr",
          "text": [
            "/usr/local/lib/python3.10/dist-packages/torchvision/models/_utils.py:208: UserWarning: The parameter 'pretrained' is deprecated since 0.13 and may be removed in the future, please use 'weights' instead.\n",
            "  warnings.warn(\n",
            "/usr/local/lib/python3.10/dist-packages/torchvision/models/_utils.py:223: UserWarning: Arguments other than a weight enum or `None` for 'weights' are deprecated since 0.13 and may be removed in the future. The current behavior is equivalent to passing `weights=ResNet50_Weights.IMAGENET1K_V1`. You can also use `weights=ResNet50_Weights.DEFAULT` to get the most up-to-date weights.\n",
            "  warnings.warn(msg)\n"
          ]
        },
        {
          "output_type": "stream",
          "name": "stdout",
          "text": [
            "tensor([0.8539, 0.7819, 0.8359, 0.8189, 0.8473, 0.8348, 0.8461, 0.8463, 0.8389,\n",
            "        0.8179, 0.8445, 0.8216, 0.8059, 0.8580, 0.7835],\n",
            "       grad_fn=<SumBackward1>)\n",
            "0.8580335378646851 13\n",
            "The rank 1 cat has catID 4 and similarity 0.8580335378646851\n",
            "torch.return_types.topk(\n",
            "values=tensor([0.8580, 0.8539, 0.8473, 0.8463, 0.8461], grad_fn=<TopkBackward0>),\n",
            "indices=tensor([13,  0,  4,  7,  6]))\n",
            "The rank 1 cat has catID 4 and similarity 0.8580335378646851\n",
            "The rank 2 cat has catID 0 and similarity 0.8538737893104553\n",
            "The rank 3 cat has catID 1 and similarity 0.8473202586174011\n",
            "The rank 4 cat has catID 2 and similarity 0.8462850451469421\n",
            "The rank 5 cat has catID 2 and similarity 0.8461136817932129\n",
            "[1, 1, 2, 0, 1]\n",
            "the final predicted cat is of catsID2\n"
          ]
        }
      ],
      "source": [
        "import torch\n",
        "import torchvision.models as models\n",
        "import torch.nn as nn\n",
        "\n",
        "model = models.resnet50(pretrained=True)\n",
        "model.fc = nn.Identity()\n",
        "\n",
        "from torchvision import transforms\n",
        "\n",
        "preprocess = transforms.Compose([\n",
        "    transforms.Resize((224, 224)),\n",
        "    transforms.ToTensor(),\n",
        "    transforms.Normalize(\n",
        "        mean=[0.485, 0.456, 0.406],\n",
        "        std=[0.229, 0.224, 0.225]\n",
        "    ),\n",
        "])\n",
        "\n",
        "from PIL import Image\n",
        "img_database = [\"/content/chong_1.pic.jpg\", \"/content/chong_2.pic.jpg\",\"/content/chong_3.pic.jpg\",\n",
        "                \"/content/erdai_1.jpg\", \"/content/erdai_2.jpg\",\"/content/erdai_3.jpg\",\n",
        "                \"/content/meiqiu1.pic.jpg\",\"/content/meiqiu2.pic.jpg\",\"/content/meiqiu3.pic.jpg\",\n",
        "                \"/content/tusi1.pic.jpg\", \"/content/tusi2.pic.jpg\", \"/content/tusi3.pic.jpg\",\n",
        "                \"/content/datou1.pic.jpg\",\"/content/datou2.pic.jpg\",\"/content/datou3.pic.jpg\"]\n",
        "\n",
        "cat_ids = [0,0,0,1,1,1,2,2,2,3,3,3,4,4,4]\n",
        "total_img = []\n",
        "for img in img_database:\n",
        "    image = Image.open(img)\n",
        "    x = preprocess(image)\n",
        "    x = x.unsqueeze(0)\n",
        "    total_img.append(x)\n",
        "sum_img = torch.cat(total_img,dim = 0)\n",
        "tensor_database = model(sum_img)\n",
        "\n",
        "cat_data = {\n",
        "    'cat_ids': cat_ids,\n",
        "    'cat_emb': tensor_database\n",
        "}\n",
        "\n",
        "torch.save(cat_data, \"/content/cats_data.pt\")\n",
        "\n",
        "image_testing = \"/content/2151689219780_.pic.jpg\"\n",
        "image = Image.open(image_testing)\n",
        "x = preprocess(image)\n",
        "x = x.unsqueeze(0)\n",
        "emb_testing = x\n",
        "with torch.no_grad():\n",
        "    emb_testing = model(x)\n",
        "\n",
        "\n",
        "loaded_tensor_database = torch.load(\"/content/cats_data.pt\")\n",
        "cosine_similarities = torch.nn.functional.cosine_similarity(emb_testing, loaded_tensor_database['cat_emb'])\n",
        "print(cosine_similarities)\n",
        "anslist = cosine_similarities.tolist()\n",
        "ans = max(anslist)\n",
        "ans_i = anslist.index(ans)\n",
        "print (ans,ans_i)\n",
        "print (f\"The rank 1 cat has catID {loaded_tensor_database['cat_ids'][ans_i]} and similarity {ans}\")\n",
        "\n",
        "k = 5\n",
        "res = torch.topk(cosine_similarities,k)\n",
        "\n",
        "print(res)\n",
        "IDlist = res.indices.tolist()\n",
        "val_list = res.values.tolist()\n",
        "count = [0]*5\n",
        "\n",
        "for i in range(k):\n",
        "  ID = IDlist[i]\n",
        "  val = val_list[i]\n",
        "  count[loaded_tensor_database['cat_ids'][ID]]+=1\n",
        "  print (f\"The rank {i+1} cat has catID {loaded_tensor_database['cat_ids'][ID]} and similarity {val}\")\n",
        "\n",
        "print(count)\n",
        "resknn = count.index(max(count))\n",
        "print(f\"the final predicted cat is of catsID{resknn}\")"
      ]
    }
  ]
}